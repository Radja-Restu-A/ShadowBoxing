{
 "cells": [
  {
   "cell_type": "markdown",
   "id": "359d1a76",
   "metadata": {},
   "source": [
    "# Boxing Game FastAPI Interface\n",
    "# FastAPI application untuk real-time boxing pose detection game"
   ]
  },
  {
   "cell_type": "markdown",
   "id": "17ba9689",
   "metadata": {},
   "source": [
    "## 1. Import Library yang Dibutuhkan"
   ]
  },
  {
   "cell_type": "code",
   "execution_count": null,
   "id": "18d870ac",
   "metadata": {},
   "outputs": [],
   "source": [
    "from fastapi import FastAPI, HTTPException\n",
    "from fastapi.middleware.cors import CORSMiddleware\n",
    "from fastapi.staticfiles import StaticFiles\n",
    "from pydantic import BaseModel\n",
    "import cv2\n",
    "import mediapipe as mp\n",
    "import numpy as np\n",
    "import joblib\n",
    "import base64\n",
    "import random\n",
    "from typing import List, Dict\n",
    "from fastapi.responses import HTMLResponse\n",
    "\n",
    "print(\"Library berhasil diimport!\")\n"
   ]
  },
  {
   "cell_type": "markdown",
   "id": "2fd14ceb",
   "metadata": {},
   "source": [
    "## 2. Inisialisasi FastAPI Application"
   ]
  },
  {
   "cell_type": "code",
   "execution_count": null,
   "id": "defa7d11",
   "metadata": {},
   "outputs": [],
   "source": [
    "app = FastAPI()\n",
    "\n",
    "app.add_middleware(\n",
    "    CORSMiddleware,\n",
    "    allow_origins=[\"*\"],\n",
    "    allow_credentials=True,\n",
    "    allow_methods=[\"*\"],\n",
    "    allow_headers=[\"*\"],\n",
    ")\n",
    "\n",
    "print(\"FastAPI application berhasil diinisialisasi!\")"
   ]
  },
  {
   "cell_type": "markdown",
   "id": "e80b79b2",
   "metadata": {},
   "source": [
    "## 3. Load Model dan Setup MediaPipe"
   ]
  },
  {
   "cell_type": "code",
   "execution_count": null,
   "id": "47ce9ba2",
   "metadata": {},
   "outputs": [],
   "source": [
    "try:\n",
    "    model = joblib.load('01_Notebook_eksplorasi/boxing_classifier.pkl')\n",
    "    print(\"Model loaded successfully.\")\n",
    "except FileNotFoundError:\n",
    "    model = None\n",
    "    print(\"Model file not found. Please ensure the model is available at the specified path.\")\n",
    "\n",
    "mp_pose = mp.solutions.pose\n",
    "pose = mp_pose.Pose(static_image_mode=True, model_complexity=1, min_detection_confidence=0.7)"
   ]
  },
  {
   "cell_type": "markdown",
   "id": "2b90b2fe",
   "metadata": {},
   "source": [
    "## 4. Game State Management Class"
   ]
  },
  {
   "cell_type": "code",
   "execution_count": null,
   "id": "4dc68818",
   "metadata": {},
   "outputs": [],
   "source": [
    "class GameState:\n",
    "    def __init__(self):\n",
    "        self.health = 3\n",
    "        self.score = 0\n",
    "        self.current_move = None\n",
    "        self.moves = ['JAB', 'HOOK', 'UPPERCUT']\n",
    "        self.generate_new_move()\n",
    "        \n",
    "    def generate_new_move(self):\n",
    "        self.current_move = random.choice(self.moves)\n",
    "        \n",
    "    def correct_move(self):\n",
    "        self.score += 100\n",
    "        self.generate_new_move()\n",
    "        \n",
    "    def wrong_move(self):\n",
    "        self.health -= 1\n",
    "        self.generate_new_move()\n",
    "        \n",
    "    def timeout(self):\n",
    "        self.health -= 1\n",
    "        self.generate_new_move()\n",
    "        \n",
    "    def is_game_over(self):\n",
    "        return self.health <= 0\n",
    "        \n",
    "    def reset(self):\n",
    "        self.health = 3\n",
    "        self.score = 0\n",
    "        self.generate_new_move()\n",
    "\n",
    "game_state = GameState()\n",
    "print(\"GameState class berhasil dibuat!\")\n"
   ]
  },
  {
   "cell_type": "markdown",
   "id": "161cab21",
   "metadata": {},
   "source": [
    "## 5. Pydantic Models untuk API"
   ]
  },
  {
   "cell_type": "code",
   "execution_count": null,
   "id": "5d089081",
   "metadata": {},
   "outputs": [],
   "source": [
    "class PoseData(BaseModel):\n",
    "    image: str\n",
    "\n",
    "class GameStatus(BaseModel):\n",
    "    health: int\n",
    "    score: int\n",
    "    current_move: str\n",
    "    game_over: bool\n",
    "\n",
    "print(\"Pydantic models berhasil didefinisikan!\")\n"
   ]
  },
  {
   "cell_type": "markdown",
   "id": "1f2c0f0a",
   "metadata": {},
   "source": [
    "## 6. Utility Functions"
   ]
  },
  {
   "cell_type": "code",
   "execution_count": null,
   "id": "b49fd779",
   "metadata": {},
   "outputs": [],
   "source": [
    "def extract_upper_body_landmarks(landmarks):\n",
    "    \"\"\"\n",
    "    Ekstraksi landmark upper body untuk klasifikasi pose\n",
    "    \n",
    "    Args:\n",
    "        landmarks: MediaPipe pose landmarks\n",
    "    \n",
    "    Returns:\n",
    "        List koordinat landmark upper body\n",
    "    \"\"\"\n",
    "    upper_body_indices = [11, 12, 13, 14, 15, 16]\n",
    "    extracted = []\n",
    "    for idx in upper_body_indices:\n",
    "        lm = landmarks[idx]\n",
    "        extracted.extend([lm.x, lm.y, lm.z])\n",
    "    return extracted\n",
    "\n",
    "def decode_image(image_data: str):\n",
    "    \"\"\"\n",
    "    Decode base64 image data menjadi OpenCV image\n",
    "    \n",
    "    Args:\n",
    "        image_data: Base64 encoded image string\n",
    "    \n",
    "    Returns:\n",
    "        OpenCV image array\n",
    "    \"\"\"\n",
    "    try:\n",
    "        image_bytes = base64.b64decode(image_data.split(',')[1])\n",
    "        nparr = np.frombuffer(image_bytes, np.uint8)\n",
    "        img = cv2.imdecode(nparr, cv2.IMREAD_COLOR)\n",
    "        return img\n",
    "    except Exception as e:\n",
    "        raise HTTPException(status_code=400, detail=f\"Invalid image data: {str(e)}\")\n",
    "\n",
    "print(\"Utility functions berhasil didefinisikan!\")\n"
   ]
  },
  {
   "cell_type": "markdown",
   "id": "ba20fd99",
   "metadata": {},
   "source": [
    "## 7. API Endpoints - Pose Prediction"
   ]
  },
  {
   "cell_type": "code",
   "execution_count": null,
   "id": "c817322c",
   "metadata": {},
   "outputs": [],
   "source": [
    "@app.post(\"/predict_pose\")\n",
    "async def predict_pose(pose_data: PoseData):\n",
    "    \"\"\"\n",
    "    Endpoint untuk prediksi pose boxing dari image\n",
    "    \n",
    "    Args:\n",
    "        pose_data: PoseData berisi base64 encoded image\n",
    "    \n",
    "    Returns:\n",
    "        Dictionary berisi hasil prediksi dan game state\n",
    "    \"\"\"\n",
    "    if model is None:\n",
    "        raise HTTPException(status_code=500, detail=\"Model not loaded\")\n",
    "        \n",
    "    try:\n",
    "        img = decode_image(pose_data.image)\n",
    "        rgb = cv2.cvtColor(img, cv2.COLOR_BGR2RGB)\n",
    "        results = pose.process(rgb)\n",
    "        \n",
    "        if not results.pose_landmarks:\n",
    "            return {\"predicted_move\": \"NO_POSE\", \"confidence\": 0.0}\n",
    "            \n",
    "        landmarks = extract_upper_body_landmarks(results.pose_landmarks.landmark)\n",
    "        prediction = model.predict([landmarks])\n",
    "        confidence = max(model.predict_proba([landmarks])[0])\n",
    "        \n",
    "        predicted_move = prediction[0]\n",
    "        \n",
    "        if predicted_move == game_state.current_move and confidence > 0.7:\n",
    "            game_state.correct_move()\n",
    "            return {\n",
    "                \"predicted_move\": predicted_move,\n",
    "                \"confidence\": float(confidence),\n",
    "                \"result\": \"CORRECT\",\n",
    "                \"game_state\": {\n",
    "                    \"health\": game_state.health,\n",
    "                    \"score\": game_state.score,\n",
    "                    \"current_move\": game_state.current_move,\n",
    "                    \"game_over\": game_state.is_game_over()\n",
    "                }\n",
    "            }\n",
    "        else:\n",
    "            return {\n",
    "                \"predicted_move\": predicted_move,\n",
    "                \"confidence\": float(confidence),\n",
    "                \"result\": \"INCORRECT\" if confidence > 0.7 else \"LOW_CONFIDENCE\"\n",
    "            }\n",
    "            \n",
    "    except Exception as e:\n",
    "        raise HTTPException(status_code=500, detail=f\"Prediction error: {str(e)}\")\n",
    "\n",
    "print(\"Pose prediction endpoint berhasil didefinisikan!\")\n"
   ]
  },
  {
   "cell_type": "markdown",
   "id": "9ab406ca",
   "metadata": {},
   "source": [
    "## 8. API Endpoints - Game Management"
   ]
  },
  {
   "cell_type": "code",
   "execution_count": null,
   "id": "48177afb",
   "metadata": {},
   "outputs": [],
   "source": [
    "@app.post(\"/timeout\")\n",
    "async def handle_timeout():\n",
    "    \"\"\"\n",
    "    Endpoint untuk handle timeout dalam game\n",
    "    \n",
    "    Returns:\n",
    "        Dictionary berisi game state setelah timeout\n",
    "    \"\"\"\n",
    "    game_state.timeout()\n",
    "    return {\n",
    "        \"health\": game_state.health,\n",
    "        \"score\": game_state.score,\n",
    "        \"current_move\": game_state.current_move,\n",
    "        \"game_over\": game_state.is_game_over()\n",
    "    }\n",
    "\n",
    "@app.get(\"/game_status\")\n",
    "async def get_game_status():\n",
    "    \"\"\"\n",
    "    Endpoint untuk mendapatkan status game saat ini\n",
    "    \n",
    "    Returns:\n",
    "        Dictionary berisi current game state\n",
    "    \"\"\"\n",
    "    return {\n",
    "        \"health\": game_state.health,\n",
    "        \"score\": game_state.score,\n",
    "        \"current_move\": game_state.current_move,\n",
    "        \"game_over\": game_state.is_game_over()\n",
    "    }\n",
    "\n",
    "@app.post(\"/reset_game\")\n",
    "async def reset_game():\n",
    "    \"\"\"\n",
    "    Endpoint untuk reset game ke state awal\n",
    "    \n",
    "    Returns:\n",
    "        Dictionary berisi game state setelah reset\n",
    "    \"\"\"\n",
    "    game_state.reset()\n",
    "    return {\n",
    "        \"health\": game_state.health,\n",
    "        \"score\": game_state.score,\n",
    "        \"current_move\": game_state.current_move,\n",
    "        \"game_over\": game_state.is_game_over()\n",
    "    }\n",
    "\n",
    "print(\"Game management endpoints berhasil didefinisikan!\")\n"
   ]
  },
  {
   "cell_type": "markdown",
   "id": "1f4a76e9",
   "metadata": {},
   "source": [
    "## 9. Root Endpoint - HTML Interface"
   ]
  },
  {
   "cell_type": "code",
   "execution_count": null,
   "id": "c9bcfe6e",
   "metadata": {},
   "outputs": [],
   "source": [
    "@app.post(\"/timeout\")\n",
    "async def handle_timeout():\n",
    "    \"\"\"\n",
    "    Endpoint untuk handle timeout dalam game\n",
    "    \n",
    "    Returns:\n",
    "        Dictionary berisi game state setelah timeout\n",
    "    \"\"\"\n",
    "    game_state.timeout()\n",
    "    return {\n",
    "        \"health\": game_state.health,\n",
    "        \"score\": game_state.score,\n",
    "        \"current_move\": game_state.current_move,\n",
    "        \"game_over\": game_state.is_game_over()\n",
    "    }\n",
    "\n",
    "@app.get(\"/game_status\")\n",
    "async def get_game_status():\n",
    "    \"\"\"\n",
    "    Endpoint untuk mendapatkan status game saat ini\n",
    "    \n",
    "    Returns:\n",
    "        Dictionary berisi current game state\n",
    "    \"\"\"\n",
    "    return {\n",
    "        \"health\": game_state.health,\n",
    "        \"score\": game_state.score,\n",
    "        \"current_move\": game_state.current_move,\n",
    "        \"game_over\": game_state.is_game_over()\n",
    "    }\n",
    "\n",
    "@app.post(\"/reset_game\")\n",
    "async def reset_game():\n",
    "    \"\"\"\n",
    "    Endpoint untuk reset game ke state awal\n",
    "    \n",
    "    Returns:\n",
    "        Dictionary berisi game state setelah reset\n",
    "    \"\"\"\n",
    "    game_state.reset()\n",
    "    return {\n",
    "        \"health\": game_state.health,\n",
    "        \"score\": game_state.score,\n",
    "        \"current_move\": game_state.current_move,\n",
    "        \"game_over\": game_state.is_game_over()\n",
    "    }\n",
    "\n",
    "print(\"Game management endpoints berhasil didefinisikan!\")\n"
   ]
  },
  {
   "cell_type": "markdown",
   "id": "68cef315",
   "metadata": {},
   "source": [
    "## 10. Server Startup"
   ]
  },
  {
   "cell_type": "code",
   "execution_count": null,
   "id": "fbfdaea9",
   "metadata": {},
   "outputs": [],
   "source": [
    "if __name__ == \"__main__\":\n",
    "    import uvicorn\n",
    "    uvicorn.run(app, host=\"localhost\", port=8000)\n",
    "\n",
    "print(\"Server startup configuration berhasil didefinisikan!\")\n"
   ]
  }
 ],
 "metadata": {
  "language_info": {
   "name": "python"
  }
 },
 "nbformat": 4,
 "nbformat_minor": 5
}
